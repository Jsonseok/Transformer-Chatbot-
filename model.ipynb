{
 "cells": [
  {
   "cell_type": "code",
   "execution_count": 1,
   "metadata": {},
   "outputs": [],
   "source": [
    "import numpy as np\n",
    "import tensorflow as tf\n",
    "import tensorflow_datasets as tfds\n",
    "import pandas as pd\n",
    "import matplotlib.pyplot as plt\n",
    "import re\n",
    "import urllib.request\n",
    "import time\n",
    "from transformer import create_padding_mask, PositionalEncoding, CustomMultiHeadAttention, CustomSchedule, accuracy, preprocess_sentence, evaluate, predict, transformer\n",
    "import os\n"
   ]
  },
  {
   "cell_type": "code",
   "execution_count": 2,
   "metadata": {},
   "outputs": [
    {
     "data": {
      "text/html": [
       "<div>\n",
       "<style scoped>\n",
       "    .dataframe tbody tr th:only-of-type {\n",
       "        vertical-align: middle;\n",
       "    }\n",
       "\n",
       "    .dataframe tbody tr th {\n",
       "        vertical-align: top;\n",
       "    }\n",
       "\n",
       "    .dataframe thead th {\n",
       "        text-align: right;\n",
       "    }\n",
       "</style>\n",
       "<table border=\"1\" class=\"dataframe\">\n",
       "  <thead>\n",
       "    <tr style=\"text-align: right;\">\n",
       "      <th></th>\n",
       "      <th>Q</th>\n",
       "      <th>A</th>\n",
       "      <th>label</th>\n",
       "    </tr>\n",
       "  </thead>\n",
       "  <tbody>\n",
       "    <tr>\n",
       "      <th>0</th>\n",
       "      <td>12시 땡!</td>\n",
       "      <td>하루가 또 가네요.</td>\n",
       "      <td>0</td>\n",
       "    </tr>\n",
       "    <tr>\n",
       "      <th>1</th>\n",
       "      <td>1지망 학교 떨어졌어</td>\n",
       "      <td>위로해 드립니다.</td>\n",
       "      <td>0</td>\n",
       "    </tr>\n",
       "    <tr>\n",
       "      <th>2</th>\n",
       "      <td>3박4일 놀러가고 싶다</td>\n",
       "      <td>여행은 언제나 좋죠.</td>\n",
       "      <td>0</td>\n",
       "    </tr>\n",
       "    <tr>\n",
       "      <th>3</th>\n",
       "      <td>3박4일 정도 놀러가고 싶다</td>\n",
       "      <td>여행은 언제나 좋죠.</td>\n",
       "      <td>0</td>\n",
       "    </tr>\n",
       "    <tr>\n",
       "      <th>4</th>\n",
       "      <td>PPL 심하네</td>\n",
       "      <td>눈살이 찌푸려지죠.</td>\n",
       "      <td>0</td>\n",
       "    </tr>\n",
       "  </tbody>\n",
       "</table>\n",
       "</div>"
      ],
      "text/plain": [
       "                 Q            A  label\n",
       "0           12시 땡!   하루가 또 가네요.      0\n",
       "1      1지망 학교 떨어졌어    위로해 드립니다.      0\n",
       "2     3박4일 놀러가고 싶다  여행은 언제나 좋죠.      0\n",
       "3  3박4일 정도 놀러가고 싶다  여행은 언제나 좋죠.      0\n",
       "4          PPL 심하네   눈살이 찌푸려지죠.      0"
      ]
     },
     "execution_count": 2,
     "metadata": {},
     "output_type": "execute_result"
    }
   ],
   "source": [
    "# urllib.request.urlretrieve(\"https://raw.githubusercontent.com/songys/Chatbot_data/master/ChatbotData.csv\", filename=\"ChatBotData.csv\")\n",
    "train_data = pd.read_csv('ChatBotData.csv')\n",
    "train_data.head()"
   ]
  },
  {
   "cell_type": "code",
   "execution_count": 3,
   "metadata": {},
   "outputs": [],
   "source": [
    "questions = []\n",
    "for sentence in train_data['Q']:\n",
    "    sentence = re.sub(r\"([?.!,])\", r\" \\1 \", sentence)\n",
    "    sentence = sentence.strip()\n",
    "    questions.append(sentence)\n",
    "\n",
    "answers = []\n",
    "for sentence in train_data['A']:\n",
    "    sentence = re.sub(r\"([?.!,])\", r\" \\1 \", sentence)\n",
    "    sentence = sentence.strip()\n",
    "    answers.append(sentence)"
   ]
  },
  {
   "cell_type": "code",
   "execution_count": 4,
   "metadata": {},
   "outputs": [],
   "source": [
    "tokenizer = tfds.deprecated.text.SubwordTextEncoder.build_from_corpus(\n",
    "    questions + answers, target_vocab_size=2**13)\n",
    "\n",
    "tokenizer.save_to_file('tokenizer')"
   ]
  },
  {
   "cell_type": "code",
   "execution_count": 5,
   "metadata": {},
   "outputs": [],
   "source": [
    "START_TOKEN, END_TOKEN = [tokenizer.vocab_size], [tokenizer.vocab_size + 1]\n",
    "VOCAB_SIZE = tokenizer.vocab_size + 2"
   ]
  },
  {
   "cell_type": "code",
   "execution_count": 6,
   "metadata": {},
   "outputs": [],
   "source": [
    "MAX_LENGTH = 40"
   ]
  },
  {
   "cell_type": "code",
   "execution_count": 7,
   "metadata": {},
   "outputs": [],
   "source": [
    "def tokenize_and_filter(inputs, outputs):\n",
    "    tokenized_inputs, tokenized_outputs = [], []\n",
    "    for (sentence1, sentence2) in zip(inputs, outputs):\n",
    "        sentence1 = START_TOKEN + tokenizer.encode(sentence1) + END_TOKEN\n",
    "        sentence2 = START_TOKEN + tokenizer.encode(sentence2) + END_TOKEN\n",
    "        tokenized_inputs.append(sentence1)\n",
    "        tokenized_outputs.append(sentence2)\n",
    "    tokenized_inputs = tf.keras.preprocessing.sequence.pad_sequences(\n",
    "        tokenized_inputs, maxlen=MAX_LENGTH, padding='post')\n",
    "    tokenized_outputs = tf.keras.preprocessing.sequence.pad_sequences(\n",
    "        tokenized_outputs, maxlen=MAX_LENGTH, padding='post')\n",
    "    return tokenized_inputs, tokenized_outputs"
   ]
  },
  {
   "cell_type": "code",
   "execution_count": 8,
   "metadata": {},
   "outputs": [],
   "source": [
    "questions, answers = tokenize_and_filter(questions, answers)\n"
   ]
  },
  {
   "cell_type": "code",
   "execution_count": 9,
   "metadata": {},
   "outputs": [],
   "source": [
    "\n",
    "BATCH_SIZE = 64\n",
    "BUFFER_SIZE = 20000\n",
    "\n",
    "dataset = tf.data.Dataset.from_tensor_slices((\n",
    "    {\n",
    "        'inputs': questions,\n",
    "        'dec_inputs': answers[:, :-1]\n",
    "    },\n",
    "    {\n",
    "        'outputs': answers[:, 1:]\n",
    "    },\n",
    "))\n",
    "dataset = dataset.cache()\n",
    "dataset = dataset.shuffle(BUFFER_SIZE)\n",
    "dataset = dataset.batch(BATCH_SIZE)\n",
    "dataset = dataset.prefetch(tf.data.experimental.AUTOTUNE)\n"
   ]
  },
  {
   "cell_type": "code",
   "execution_count": 10,
   "metadata": {},
   "outputs": [],
   "source": [
    "tf.keras.backend.clear_session()\n",
    "\n",
    "# 하이퍼파라미터\n",
    "D_MODEL = 256\n",
    "NUM_LAYERS = 2\n",
    "NUM_HEADS = 8\n",
    "DFF = 512\n",
    "DROPOUT = 0.1\n",
    "\n",
    "model = transformer(\n",
    "    vocab_size=VOCAB_SIZE,\n",
    "    num_layers=NUM_LAYERS,\n",
    "    dff=DFF,\n",
    "    d_model=D_MODEL,\n",
    "    num_heads=NUM_HEADS,\n",
    "    dropout=DROPOUT)"
   ]
  },
  {
   "cell_type": "code",
   "execution_count": 11,
   "metadata": {},
   "outputs": [],
   "source": [
    "learning_rate = CustomSchedule(D_MODEL)\n",
    "optimizer = tf.keras.optimizers.Adam(\n",
    "    learning_rate, beta_1=0.9, beta_2=0.98, epsilon=1e-9)\n",
    "\n",
    "def loss_function(y_true, y_pred):\n",
    "    y_true = tf.reshape(y_true, shape=[-1, tf.shape(y_pred)[1]])\n",
    "\n",
    "    loss = tf.keras.losses.SparseCategoricalCrossentropy(from_logits=True, reduction='none')(y_true, y_pred)\n",
    "    mask = tf.cast(tf.not_equal(y_true, 0), tf.float32)\n",
    "    loss = tf.multiply(loss, mask)\n",
    "\n",
    "    return tf.reduce_mean(loss)\n",
    "\n",
    "\n",
    "model.compile(optimizer=optimizer, loss=loss_function, metrics=[accuracy])\n"
   ]
  },
  {
   "cell_type": "code",
   "execution_count": 12,
   "metadata": {},
   "outputs": [
    {
     "name": "stdout",
     "output_type": "stream",
     "text": [
      "Epoch 1/50\n",
      "185/185 [==============================] - 61s 299ms/step - loss: 1.4569 - accuracy: 0.0277\n",
      "Epoch 2/50\n",
      "185/185 [==============================] - 54s 289ms/step - loss: 1.1791 - accuracy: 0.0495\n",
      "Epoch 3/50\n",
      "185/185 [==============================] - 55s 295ms/step - loss: 1.0041 - accuracy: 0.0506\n",
      "Epoch 4/50\n",
      "185/185 [==============================] - 55s 294ms/step - loss: 0.9288 - accuracy: 0.0545\n",
      "Epoch 5/50\n",
      "185/185 [==============================] - 55s 295ms/step - loss: 0.8716 - accuracy: 0.0576\n",
      "Epoch 6/50\n",
      "185/185 [==============================] - 54s 293ms/step - loss: 0.8126 - accuracy: 0.0616\n",
      "Epoch 7/50\n",
      "185/185 [==============================] - 53s 288ms/step - loss: 0.7459 - accuracy: 0.0677\n",
      "Epoch 8/50\n",
      "185/185 [==============================] - 55s 295ms/step - loss: 0.6720 - accuracy: 0.0754\n",
      "Epoch 9/50\n",
      "185/185 [==============================] - 55s 296ms/step - loss: 0.5925 - accuracy: 0.0843\n",
      "Epoch 10/50\n",
      "185/185 [==============================] - 55s 295ms/step - loss: 0.5109 - accuracy: 0.0934\n",
      "Epoch 11/50\n",
      "185/185 [==============================] - 54s 294ms/step - loss: 0.4267 - accuracy: 0.1040\n",
      "Epoch 12/50\n",
      "185/185 [==============================] - 55s 295ms/step - loss: 0.3452 - accuracy: 0.1148\n",
      "Epoch 13/50\n",
      "185/185 [==============================] - 56s 301ms/step - loss: 0.2709 - accuracy: 0.1257\n",
      "Epoch 14/50\n",
      "185/185 [==============================] - 54s 294ms/step - loss: 0.2047 - accuracy: 0.1364\n",
      "Epoch 15/50\n",
      "185/185 [==============================] - 55s 298ms/step - loss: 0.1508 - accuracy: 0.1455\n",
      "Epoch 16/50\n",
      "185/185 [==============================] - 54s 293ms/step - loss: 0.1084 - accuracy: 0.1535\n",
      "Epoch 17/50\n",
      "185/185 [==============================] - 54s 292ms/step - loss: 0.0793 - accuracy: 0.1588\n",
      "Epoch 18/50\n",
      "185/185 [==============================] - 54s 294ms/step - loss: 0.0599 - accuracy: 0.1622\n",
      "Epoch 19/50\n",
      "185/185 [==============================] - 54s 293ms/step - loss: 0.0511 - accuracy: 0.1635\n",
      "Epoch 20/50\n",
      "185/185 [==============================] - 54s 293ms/step - loss: 0.0455 - accuracy: 0.1645\n",
      "Epoch 21/50\n",
      "185/185 [==============================] - 55s 297ms/step - loss: 0.0416 - accuracy: 0.1652\n",
      "Epoch 22/50\n",
      "185/185 [==============================] - 56s 302ms/step - loss: 0.0403 - accuracy: 0.1654\n",
      "Epoch 23/50\n",
      "185/185 [==============================] - 56s 302ms/step - loss: 0.0361 - accuracy: 0.1662\n",
      "Epoch 24/50\n",
      "185/185 [==============================] - 55s 299ms/step - loss: 0.0309 - accuracy: 0.1674\n",
      "Epoch 25/50\n",
      "185/185 [==============================] - 55s 295ms/step - loss: 0.0280 - accuracy: 0.1682\n",
      "Epoch 26/50\n",
      "185/185 [==============================] - 54s 292ms/step - loss: 0.0245 - accuracy: 0.1689\n",
      "Epoch 27/50\n",
      "185/185 [==============================] - 54s 292ms/step - loss: 0.0215 - accuracy: 0.1697\n",
      "Epoch 28/50\n",
      "185/185 [==============================] - 54s 292ms/step - loss: 0.0198 - accuracy: 0.1702\n",
      "Epoch 29/50\n",
      "185/185 [==============================] - 55s 295ms/step - loss: 0.0181 - accuracy: 0.1705\n",
      "Epoch 30/50\n",
      "185/185 [==============================] - 55s 298ms/step - loss: 0.0167 - accuracy: 0.1709\n",
      "Epoch 31/50\n",
      "185/185 [==============================] - 54s 294ms/step - loss: 0.0155 - accuracy: 0.1713\n",
      "Epoch 32/50\n",
      "185/185 [==============================] - 54s 291ms/step - loss: 0.0141 - accuracy: 0.1716\n",
      "Epoch 33/50\n",
      "185/185 [==============================] - 53s 287ms/step - loss: 0.0134 - accuracy: 0.1717\n",
      "Epoch 34/50\n",
      "185/185 [==============================] - 54s 293ms/step - loss: 0.0122 - accuracy: 0.1721\n",
      "Epoch 35/50\n",
      "185/185 [==============================] - 55s 298ms/step - loss: 0.0112 - accuracy: 0.1724\n",
      "Epoch 36/50\n",
      "185/185 [==============================] - 57s 305ms/step - loss: 0.0105 - accuracy: 0.1725\n",
      "Epoch 37/50\n",
      "185/185 [==============================] - 55s 299ms/step - loss: 0.0102 - accuracy: 0.1727\n",
      "Epoch 38/50\n",
      "185/185 [==============================] - 56s 302ms/step - loss: 0.0094 - accuracy: 0.1729\n",
      "Epoch 39/50\n",
      "185/185 [==============================] - 54s 294ms/step - loss: 0.0091 - accuracy: 0.1729\n",
      "Epoch 40/50\n",
      "185/185 [==============================] - 56s 300ms/step - loss: 0.0089 - accuracy: 0.1729\n",
      "Epoch 41/50\n",
      "185/185 [==============================] - 55s 299ms/step - loss: 0.0083 - accuracy: 0.1730\n",
      "Epoch 42/50\n",
      "185/185 [==============================] - 57s 306ms/step - loss: 0.0077 - accuracy: 0.1733\n",
      "Epoch 43/50\n",
      "185/185 [==============================] - 57s 307ms/step - loss: 0.0077 - accuracy: 0.1732\n",
      "Epoch 44/50\n",
      "185/185 [==============================] - 56s 301ms/step - loss: 0.0069 - accuracy: 0.1734\n",
      "Epoch 45/50\n",
      "185/185 [==============================] - 56s 300ms/step - loss: 0.0068 - accuracy: 0.1735\n",
      "Epoch 46/50\n",
      "185/185 [==============================] - 56s 301ms/step - loss: 0.0068 - accuracy: 0.1734\n",
      "Epoch 47/50\n",
      "185/185 [==============================] - 56s 301ms/step - loss: 0.0061 - accuracy: 0.1736\n",
      "Epoch 48/50\n",
      "185/185 [==============================] - 56s 304ms/step - loss: 0.0059 - accuracy: 0.1736\n",
      "Epoch 49/50\n",
      "185/185 [==============================] - 56s 304ms/step - loss: 0.0058 - accuracy: 0.1737\n",
      "Epoch 50/50\n",
      "185/185 [==============================] - 55s 298ms/step - loss: 0.0056 - accuracy: 0.1738\n"
     ]
    },
    {
     "data": {
      "text/plain": [
       "<keras.src.callbacks.History at 0x154f0ee5210>"
      ]
     },
     "execution_count": 12,
     "metadata": {},
     "output_type": "execute_result"
    }
   ],
   "source": [
    "EPOCHS = 50\n",
    "model.fit(dataset, epochs=EPOCHS)\n"
   ]
  },
  {
   "cell_type": "code",
   "execution_count": 18,
   "metadata": {},
   "outputs": [
    {
     "name": "stdout",
     "output_type": "stream",
     "text": [
      "Model saved to C:\\Users\\Home\\Desktop\\201835671\\transformer_chatbot_model.h5\n"
     ]
    }
   ],
   "source": [
    "\n",
    "\n",
    "# Define the path where you want to save the model\n",
    "save_path = 'C:\\\\Users\\\\Home\\\\Desktop\\\\201835671'\n",
    "save_file = os.path.join(save_path, 'transformer_chatbot_model.h5')\n",
    "\n",
    "# Create the directory if it does not exist\n",
    "if not os.path.exists(save_path):\n",
    "    os.makedirs(save_path)\n",
    "\n",
    "# Save the model\n",
    "model.save(save_file)\n",
    "print(f\"Model saved to {save_file}\")\n"
   ]
  },
  {
   "cell_type": "code",
   "execution_count": 14,
   "metadata": {},
   "outputs": [],
   "source": [
    "def preprocess_sentence(sentence):\n",
    "  # 단어와 구두점 사이에 공백 추가.\n",
    "  # ex) 12시 땡! -> 12시 땡 !\n",
    "  sentence = re.sub(r\"([?.!,])\", r\" \\1 \", sentence)\n",
    "  sentence = sentence.strip()\n",
    "  return sentence\n"
   ]
  },
  {
   "cell_type": "code",
   "execution_count": 15,
   "metadata": {},
   "outputs": [],
   "source": [
    "def evaluate(sentence):\n",
    "  # 입력 문장에 대한 전처리\n",
    "  sentence = preprocess_sentence(sentence)\n",
    "\n",
    "  # 입력 문장에 시작 토큰과 종료 토큰을 추가\n",
    "  sentence = tf.expand_dims(\n",
    "      START_TOKEN + tokenizer.encode(sentence) + END_TOKEN, axis=0)\n",
    "\n",
    "  output = tf.expand_dims(START_TOKEN, 0)\n",
    "\n",
    "  # 디코더의 예측 시작\n",
    "  for i in range(MAX_LENGTH):\n",
    "    predictions = model(inputs=[sentence, output], training=False)\n",
    "\n",
    "    # 현재 시점의 예측 단어를 받아온다.\n",
    "    predictions = predictions[:, -1:, :]\n",
    "    predicted_id = tf.cast(tf.argmax(predictions, axis=-1), tf.int32)\n",
    "\n",
    "    # 만약 현재 시점의 예측 단어가 종료 토큰이라면 예측을 중단\n",
    "    if tf.equal(predicted_id, END_TOKEN[0]):\n",
    "      break\n",
    "\n",
    "    # 현재 시점의 예측 단어를 output(출력)에 연결한다.\n",
    "    # output은 for문의 다음 루프에서 디코더의 입력이 된다.\n",
    "    output = tf.concat([output, predicted_id], axis=-1)\n",
    "\n",
    "  # 단어 예측이 모두 끝났다면 output을 리턴.\n",
    "  return tf.squeeze(output, axis=0)\n",
    "def predict(sentence):\n",
    "  prediction = evaluate(sentence)\n",
    "\n",
    "  # prediction == 디코더가 리턴한 챗봇의 대답에 해당하는 정수 시퀀스\n",
    "  # tokenizer.decode()를 통해 정수 시퀀스를 문자열로 디코딩.\n",
    "  predicted_sentence = tokenizer.decode(\n",
    "      [i for i in prediction if i < tokenizer.vocab_size])\n",
    "\n",
    "  print('Input: {}'.format(sentence))\n",
    "  print('Output: {}'.format(predicted_sentence))\n",
    "\n",
    "  return predicted_sentence\n"
   ]
  },
  {
   "cell_type": "code",
   "execution_count": 17,
   "metadata": {},
   "outputs": [
    {
     "name": "stdout",
     "output_type": "stream",
     "text": [
      "Input: 안녕?\n",
      "Output: 안녕하세요 .\n"
     ]
    }
   ],
   "source": [
    "output = predict(\"안녕?\")\n"
   ]
  },
  {
   "cell_type": "code",
   "execution_count": null,
   "metadata": {},
   "outputs": [],
   "source": []
  }
 ],
 "metadata": {
  "kernelspec": {
   "display_name": "Python 3",
   "language": "python",
   "name": "python3"
  },
  "language_info": {
   "codemirror_mode": {
    "name": "ipython",
    "version": 3
   },
   "file_extension": ".py",
   "mimetype": "text/x-python",
   "name": "python",
   "nbconvert_exporter": "python",
   "pygments_lexer": "ipython3",
   "version": "3.11.9"
  }
 },
 "nbformat": 4,
 "nbformat_minor": 2
}
